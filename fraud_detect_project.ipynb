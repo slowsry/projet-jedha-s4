{
 "cells": [
  {
   "cell_type": "markdown",
   "metadata": {},
   "source": [
    "## import des librairies & chargement des dataset"
   ]
  },
  {
   "cell_type": "code",
   "execution_count": 146,
   "metadata": {},
   "outputs": [],
   "source": [
    "import os.path\n",
    "\n",
    "import pandas as pd\n",
    "import seaborn as sns\n"
   ]
  },
  {
   "cell_type": "code",
   "execution_count": 147,
   "metadata": {},
   "outputs": [],
   "source": [
    "FD_wIP = \"./Fraud_Data_wIP.csv\"\n",
    "\n",
    "\n",
    "if os.path.isfile(FD_wIP):\n",
    "    fd = pd.read_csv(FD_wIP)\n",
    "    build_it = 0\n",
    "\n",
    "else:\n",
    "    fd = pd.read_csv(\"Fraud_Data.csv\")\n",
    "    geoip = pd.read_csv(\"IpAddress_to_Country.csv\")\n",
    "    build_it = 1\n"
   ]
  },
  {
   "cell_type": "code",
   "execution_count": 148,
   "metadata": {},
   "outputs": [
    {
     "output_type": "stream",
     "name": "stdout",
     "text": "dataset with countries found and loaded from file.\n"
    }
   ],
   "source": [
    "if not build_it :\n",
    "    print(\"dataset with countries found and loaded from file.\")\n",
    "else:\n",
    "    print(\"dataset with countries not found, now building it...\")"
   ]
  },
  {
   "cell_type": "markdown",
   "metadata": {},
   "source": [
    "## Ajout des pays, via les addresses IP du dataset geoip."
   ]
  },
  {
   "cell_type": "code",
   "execution_count": 149,
   "metadata": {
    "tags": [
     "outputPrepend",
     "outputPrepend",
     "outputPrepend",
     "outputPrepend",
     "outputPrepend",
     "outputPrepend",
     "outputPrepend",
     "outputPrepend",
     "outputPrepend",
     "outputPrepend",
     "outputPrepend",
     "outputPrepend",
     "outputPrepend",
     "outputPrepend",
     "outputPrepend",
     "outputPrepend",
     "outputPrepend",
     "outputPrepend",
     "outputPrepend",
     "outputPrepend",
     "outputPrepend",
     "outputPrepend",
     "outputPrepend",
     "outputPrepend",
     "outputPrepend",
     "outputPrepend"
    ]
   },
   "outputs": [],
   "source": [
    "if build_it :\n",
    "\n",
    "        fd.ip_address = fd.ip_address.astype(float)\n",
    "\n",
    "        # \n",
    "        # on va construire une liste de paires (index, pays)\n",
    "        # puis joindre avec le dataset d'origine\n",
    "        # \n",
    "\n",
    "        row_list = []\n",
    "\n",
    "        # un itérateur pour chaque table\n",
    "        geoip_gen = geoip.iterrows()\n",
    "        fds_gen = fd.sort_values(by='ip_address').iterrows()\n",
    "\n",
    "        # une fonction pour itérer sur la table fraud \n",
    "        def next_ip(g):\n",
    "                i_fds, row_fds = next(g)\n",
    "                ip = row_fds['ip_address']\n",
    "                return i_fds, ip\n",
    "\n",
    "        # initialisation\n",
    "        l, u, c = tuple(next(geoip_gen)[1])\n",
    "        i_fds, ip = next_ip(fds_gen)\n",
    "\n",
    "        # parcours et identification du pays\n",
    "        while(True):\n",
    "                try:\n",
    "                        if ip < l:                \n",
    "                                i_fds, ip = next_ip(fds_gen)\n",
    "                        \n",
    "                        elif l <= ip <= u:\n",
    "                                row_list.append((i_fds, c))\n",
    "                                i_fds, ip = next_ip(fds_gen)\n",
    "                        \n",
    "                        elif ip > u:\n",
    "                                l, u, c = tuple(next(geoip_gen)[1])\n",
    "                \n",
    "                except Exception as e :\n",
    "                        break        \n",
    "\n",
    "\n",
    "        pivot = pd.DataFrame(row_list, columns=['index', 'country'])\n",
    "        pivot.set_index('index', inplace=True)\n",
    "\n",
    "        # le resultat = notre dataset avec une colonne country en plus\n",
    "        fd = fd.join(pivot)\n",
    "        fd.to_csv(\"Fraud_Data_wIP.csv\")\n",
    "\n",
    "        # free memory\n",
    "        del(geoip)\n",
    "        del(row_list)"
   ]
  },
  {
   "cell_type": "markdown",
   "metadata": {},
   "source": []
  },
  {
   "cell_type": "markdown",
   "metadata": {},
   "source": [
    "## cleaning, fillna, cast dates  "
   ]
  },
  {
   "cell_type": "code",
   "execution_count": 150,
   "metadata": {},
   "outputs": [
    {
     "output_type": "stream",
     "name": "stdout",
     "text": "<class 'pandas.core.frame.DataFrame'>\nRangeIndex: 151112 entries, 0 to 151111\nData columns (total 13 columns):\n #   Column          Non-Null Count   Dtype  \n---  ------          --------------   -----  \n 0   Unnamed: 0      151112 non-null  int64  \n 1   user_id         151112 non-null  int64  \n 2   signup_time     151112 non-null  object \n 3   purchase_time   151112 non-null  object \n 4   purchase_value  151112 non-null  int64  \n 5   device_id       151112 non-null  object \n 6   source          151112 non-null  object \n 7   browser         151112 non-null  object \n 8   sex             151112 non-null  object \n 9   age             151112 non-null  int64  \n 10  ip_address      151112 non-null  float64\n 11  class           151112 non-null  int64  \n 12  country         129146 non-null  object \ndtypes: float64(1), int64(5), object(7)\nmemory usage: 15.0+ MB\n"
    }
   ],
   "source": [
    "fd.info()"
   ]
  },
  {
   "cell_type": "code",
   "execution_count": 151,
   "metadata": {},
   "outputs": [
    {
     "output_type": "execute_result",
     "data": {
      "text/plain": "1"
     },
     "metadata": {},
     "execution_count": 151
    }
   ],
   "source": [
    "# un nouvel user_id à chaque observation, cette variable n'apporte pas d'information \n",
    "\n",
    "fd.user_id.value_counts().max()"
   ]
  },
  {
   "cell_type": "code",
   "execution_count": 152,
   "metadata": {},
   "outputs": [],
   "source": [
    "# remove columns with no useful information\n",
    "\n",
    "todrop = ['user_id', 'Unnamed: 0']\n",
    "fd.drop(todrop, axis=1, inplace=True)"
   ]
  },
  {
   "cell_type": "code",
   "execution_count": 153,
   "metadata": {},
   "outputs": [],
   "source": [
    "# cast the columns with dates to datetime\n",
    "\n",
    "fd.signup_time = pd.to_datetime(fd.signup_time)\n",
    "fd.purchase_time = pd.to_datetime(fd.purchase_time)"
   ]
  },
  {
   "cell_type": "code",
   "execution_count": 154,
   "metadata": {},
   "outputs": [],
   "source": [
    "# replace NaN in country\n",
    "fd.country.fillna(value='n.a.', inplace=True)\n"
   ]
  },
  {
   "cell_type": "code",
   "execution_count": 155,
   "metadata": {},
   "outputs": [
    {
     "output_type": "stream",
     "name": "stdout",
     "text": "<class 'pandas.core.frame.DataFrame'>\nRangeIndex: 151112 entries, 0 to 151111\nData columns (total 11 columns):\n #   Column          Non-Null Count   Dtype         \n---  ------          --------------   -----         \n 0   signup_time     151112 non-null  datetime64[ns]\n 1   purchase_time   151112 non-null  datetime64[ns]\n 2   purchase_value  151112 non-null  int64         \n 3   device_id       151112 non-null  object        \n 4   source          151112 non-null  object        \n 5   browser         151112 non-null  object        \n 6   sex             151112 non-null  object        \n 7   age             151112 non-null  int64         \n 8   ip_address      151112 non-null  float64       \n 9   class           151112 non-null  int64         \n 10  country         151112 non-null  object        \ndtypes: datetime64[ns](2), float64(1), int64(3), object(5)\nmemory usage: 12.7+ MB\n"
    }
   ],
   "source": [
    "fd.info()"
   ]
  },
  {
   "cell_type": "code",
   "execution_count": 156,
   "metadata": {},
   "outputs": [
    {
     "output_type": "execute_result",
     "data": {
      "text/plain": "                   count          mean           std           min  \\\npurchase_value  151112.0  3.693537e+01  1.832276e+01      9.000000   \nage             151112.0  3.314070e+01  8.617733e+00     18.000000   \nip_address      151112.0  2.152145e+09  1.248497e+09  52093.496895   \nclass           151112.0  9.364577e-02  2.913362e-01      0.000000   \n\n                         25%           50%           75%           max  \npurchase_value  2.200000e+01  3.500000e+01  4.900000e+01  1.540000e+02  \nage             2.700000e+01  3.300000e+01  3.900000e+01  7.600000e+01  \nip_address      1.085934e+09  2.154770e+09  3.243258e+09  4.294850e+09  \nclass           0.000000e+00  0.000000e+00  0.000000e+00  1.000000e+00  ",
      "text/html": "<div>\n<style scoped>\n    .dataframe tbody tr th:only-of-type {\n        vertical-align: middle;\n    }\n\n    .dataframe tbody tr th {\n        vertical-align: top;\n    }\n\n    .dataframe thead th {\n        text-align: right;\n    }\n</style>\n<table border=\"1\" class=\"dataframe\">\n  <thead>\n    <tr style=\"text-align: right;\">\n      <th></th>\n      <th>count</th>\n      <th>mean</th>\n      <th>std</th>\n      <th>min</th>\n      <th>25%</th>\n      <th>50%</th>\n      <th>75%</th>\n      <th>max</th>\n    </tr>\n  </thead>\n  <tbody>\n    <tr>\n      <th>purchase_value</th>\n      <td>151112.0</td>\n      <td>3.693537e+01</td>\n      <td>1.832276e+01</td>\n      <td>9.000000</td>\n      <td>2.200000e+01</td>\n      <td>3.500000e+01</td>\n      <td>4.900000e+01</td>\n      <td>1.540000e+02</td>\n    </tr>\n    <tr>\n      <th>age</th>\n      <td>151112.0</td>\n      <td>3.314070e+01</td>\n      <td>8.617733e+00</td>\n      <td>18.000000</td>\n      <td>2.700000e+01</td>\n      <td>3.300000e+01</td>\n      <td>3.900000e+01</td>\n      <td>7.600000e+01</td>\n    </tr>\n    <tr>\n      <th>ip_address</th>\n      <td>151112.0</td>\n      <td>2.152145e+09</td>\n      <td>1.248497e+09</td>\n      <td>52093.496895</td>\n      <td>1.085934e+09</td>\n      <td>2.154770e+09</td>\n      <td>3.243258e+09</td>\n      <td>4.294850e+09</td>\n    </tr>\n    <tr>\n      <th>class</th>\n      <td>151112.0</td>\n      <td>9.364577e-02</td>\n      <td>2.913362e-01</td>\n      <td>0.000000</td>\n      <td>0.000000e+00</td>\n      <td>0.000000e+00</td>\n      <td>0.000000e+00</td>\n      <td>1.000000e+00</td>\n    </tr>\n  </tbody>\n</table>\n</div>"
     },
     "metadata": {},
     "execution_count": 156
    }
   ],
   "source": [
    "fd.describe().T\n"
   ]
  },
  {
   "cell_type": "markdown",
   "metadata": {},
   "source": [
    "## exploration, feature eng. "
   ]
  },
  {
   "cell_type": "markdown",
   "metadata": {},
   "source": [
    "### Feature : device_id\n",
    "\n",
    "certain device_id sont réutilisé plusieurs fois ?\n",
    "\n"
   ]
  },
  {
   "cell_type": "code",
   "execution_count": 157,
   "metadata": {},
   "outputs": [
    {
     "output_type": "execute_result",
     "data": {
      "text/plain": "           index\ndevice_id       \n2           5327\n3             90\n4              4\n5             13\n6             29\n7             50\n8             69\n9             78\n10            92\n11           101\n12            90\n13            64\n14            57\n15            41\n16            36\n17            13\n18            10\n19             5\n20             6",
      "text/html": "<div>\n<style scoped>\n    .dataframe tbody tr th:only-of-type {\n        vertical-align: middle;\n    }\n\n    .dataframe tbody tr th {\n        vertical-align: top;\n    }\n\n    .dataframe thead th {\n        text-align: right;\n    }\n</style>\n<table border=\"1\" class=\"dataframe\">\n  <thead>\n    <tr style=\"text-align: right;\">\n      <th></th>\n      <th>index</th>\n    </tr>\n    <tr>\n      <th>device_id</th>\n      <th></th>\n    </tr>\n  </thead>\n  <tbody>\n    <tr>\n      <th>2</th>\n      <td>5327</td>\n    </tr>\n    <tr>\n      <th>3</th>\n      <td>90</td>\n    </tr>\n    <tr>\n      <th>4</th>\n      <td>4</td>\n    </tr>\n    <tr>\n      <th>5</th>\n      <td>13</td>\n    </tr>\n    <tr>\n      <th>6</th>\n      <td>29</td>\n    </tr>\n    <tr>\n      <th>7</th>\n      <td>50</td>\n    </tr>\n    <tr>\n      <th>8</th>\n      <td>69</td>\n    </tr>\n    <tr>\n      <th>9</th>\n      <td>78</td>\n    </tr>\n    <tr>\n      <th>10</th>\n      <td>92</td>\n    </tr>\n    <tr>\n      <th>11</th>\n      <td>101</td>\n    </tr>\n    <tr>\n      <th>12</th>\n      <td>90</td>\n    </tr>\n    <tr>\n      <th>13</th>\n      <td>64</td>\n    </tr>\n    <tr>\n      <th>14</th>\n      <td>57</td>\n    </tr>\n    <tr>\n      <th>15</th>\n      <td>41</td>\n    </tr>\n    <tr>\n      <th>16</th>\n      <td>36</td>\n    </tr>\n    <tr>\n      <th>17</th>\n      <td>13</td>\n    </tr>\n    <tr>\n      <th>18</th>\n      <td>10</td>\n    </tr>\n    <tr>\n      <th>19</th>\n      <td>5</td>\n    </tr>\n    <tr>\n      <th>20</th>\n      <td>6</td>\n    </tr>\n  </tbody>\n</table>\n</div>"
     },
     "metadata": {},
     "execution_count": 157
    }
   ],
   "source": [
    "# device id reuse\n",
    "\n",
    "did = fd.device_id.value_counts()\n",
    "\n",
    "did[did > 1].reset_index().groupby('device_id').count()\n"
   ]
  },
  {
   "cell_type": "code",
   "execution_count": 158,
   "metadata": {},
   "outputs": [],
   "source": [
    "# feature engineering => add a column (device_id_seen) with sum of same-device_id usage "
   ]
  },
  {
   "cell_type": "code",
   "execution_count": 159,
   "metadata": {},
   "outputs": [
    {
     "output_type": "execute_result",
     "data": {
      "text/plain": "KIPFSCNUGOLDP    20\nITUMJCKWEYNDD    20\nZUSVMDEZRBDTX    20\nCQTUVBYIWWWBC    20\nEQYVNEGOFLAWK    20\n                 ..\nGSPTLJBOXWJBD     1\nJMZVQAPFOJSVA     1\nSUKOSEVTXNFZQ     1\nWEAUHCTNFYUJT     1\nLNUCUOYKTXQCK     1\nName: device_id, Length: 137956, dtype: int64"
     },
     "metadata": {},
     "execution_count": 159
    }
   ],
   "source": [
    "did"
   ]
  },
  {
   "cell_type": "code",
   "execution_count": 160,
   "metadata": {},
   "outputs": [
    {
     "output_type": "stream",
     "name": "stdout",
     "text": "<class 'pandas.core.frame.DataFrame'>\nRangeIndex: 151112 entries, 0 to 151111\nData columns (total 12 columns):\n #   Column          Non-Null Count   Dtype         \n---  ------          --------------   -----         \n 0   signup_time     151112 non-null  datetime64[ns]\n 1   purchase_time   151112 non-null  datetime64[ns]\n 2   purchase_value  151112 non-null  int64         \n 3   device_id       151112 non-null  object        \n 4   source          151112 non-null  object        \n 5   browser         151112 non-null  object        \n 6   sex             151112 non-null  object        \n 7   age             151112 non-null  int64         \n 8   ip_address      151112 non-null  float64       \n 9   class           151112 non-null  int64         \n 10  country         151112 non-null  object        \n 11  device_id_seen  151112 non-null  int64         \ndtypes: datetime64[ns](2), float64(1), int64(4), object(5)\nmemory usage: 13.8+ MB\n"
    }
   ],
   "source": [
    "fd = fd.join(did, on='device_id', rsuffix=\"_did\")\n",
    "del(did)\n",
    "\n",
    "fd.rename(columns={'device_id_did': 'device_id_seen'}, inplace=True)\n",
    "\n",
    "fd.info()"
   ]
  },
  {
   "cell_type": "code",
   "execution_count": 161,
   "metadata": {},
   "outputs": [
    {
     "output_type": "execute_result",
     "data": {
      "text/plain": "                purchase_value       age  ip_address     class  device_id_seen\npurchase_value        1.000000  0.002370   -0.000328  0.001011        0.003829\nage                   0.002370  1.000000    0.001140  0.006624        0.012160\nip_address           -0.000328  0.001140    1.000000 -0.005208       -0.007585\nclass                 0.001011  0.006624   -0.005208  1.000000        0.670837\ndevice_id_seen        0.003829  0.012160   -0.007585  0.670837        1.000000",
      "text/html": "<div>\n<style scoped>\n    .dataframe tbody tr th:only-of-type {\n        vertical-align: middle;\n    }\n\n    .dataframe tbody tr th {\n        vertical-align: top;\n    }\n\n    .dataframe thead th {\n        text-align: right;\n    }\n</style>\n<table border=\"1\" class=\"dataframe\">\n  <thead>\n    <tr style=\"text-align: right;\">\n      <th></th>\n      <th>purchase_value</th>\n      <th>age</th>\n      <th>ip_address</th>\n      <th>class</th>\n      <th>device_id_seen</th>\n    </tr>\n  </thead>\n  <tbody>\n    <tr>\n      <th>purchase_value</th>\n      <td>1.000000</td>\n      <td>0.002370</td>\n      <td>-0.000328</td>\n      <td>0.001011</td>\n      <td>0.003829</td>\n    </tr>\n    <tr>\n      <th>age</th>\n      <td>0.002370</td>\n      <td>1.000000</td>\n      <td>0.001140</td>\n      <td>0.006624</td>\n      <td>0.012160</td>\n    </tr>\n    <tr>\n      <th>ip_address</th>\n      <td>-0.000328</td>\n      <td>0.001140</td>\n      <td>1.000000</td>\n      <td>-0.005208</td>\n      <td>-0.007585</td>\n    </tr>\n    <tr>\n      <th>class</th>\n      <td>0.001011</td>\n      <td>0.006624</td>\n      <td>-0.005208</td>\n      <td>1.000000</td>\n      <td>0.670837</td>\n    </tr>\n    <tr>\n      <th>device_id_seen</th>\n      <td>0.003829</td>\n      <td>0.012160</td>\n      <td>-0.007585</td>\n      <td>0.670837</td>\n      <td>1.000000</td>\n    </tr>\n  </tbody>\n</table>\n</div>"
     },
     "metadata": {},
     "execution_count": 161
    }
   ],
   "source": [
    "# il y a une corrélation forte entre le fait que le device_id soit ré-utilisé et la classe \n",
    "\n",
    "fd.corr()"
   ]
  },
  {
   "cell_type": "code",
   "execution_count": 162,
   "metadata": {},
   "outputs": [
    {
     "output_type": "execute_result",
     "data": {
      "text/plain": "               signup_time       purchase_time  purchase_value      device_id  \\\n83     2015-01-10 23:23:25 2015-01-10 23:23:26              38  ITUMJCKWEYNDD   \n3165   2015-01-10 23:23:20 2015-04-28 00:12:59              38  ITUMJCKWEYNDD   \n5505   2015-01-10 23:23:37 2015-01-10 23:23:38              38  ITUMJCKWEYNDD   \n29782  2015-01-10 23:23:29 2015-01-10 23:23:30              38  ITUMJCKWEYNDD   \n34981  2015-01-10 23:23:22 2015-01-10 23:23:23              38  ITUMJCKWEYNDD   \n35526  2015-01-10 23:23:21 2015-01-10 23:23:22              38  ITUMJCKWEYNDD   \n35570  2015-01-10 23:23:31 2015-01-10 23:23:32              38  ITUMJCKWEYNDD   \n72653  2015-01-10 23:23:35 2015-01-10 23:23:36              38  ITUMJCKWEYNDD   \n73883  2015-01-10 23:23:28 2015-01-10 23:23:29              38  ITUMJCKWEYNDD   \n74920  2015-01-10 23:23:36 2015-01-10 23:23:37              38  ITUMJCKWEYNDD   \n79355  2015-01-10 23:23:39 2015-01-10 23:23:40              38  ITUMJCKWEYNDD   \n83951  2015-01-10 23:23:23 2015-01-10 23:23:24              38  ITUMJCKWEYNDD   \n88423  2015-01-10 23:23:24 2015-01-10 23:23:25              38  ITUMJCKWEYNDD   \n93827  2015-01-10 23:23:33 2015-01-10 23:23:34              38  ITUMJCKWEYNDD   \n109599 2015-01-10 23:23:30 2015-01-10 23:23:31              38  ITUMJCKWEYNDD   \n120368 2015-01-10 23:23:34 2015-01-10 23:23:35              38  ITUMJCKWEYNDD   \n128815 2015-01-10 23:23:38 2015-01-10 23:23:39              38  ITUMJCKWEYNDD   \n135881 2015-01-10 23:23:26 2015-01-10 23:23:27              38  ITUMJCKWEYNDD   \n139774 2015-01-10 23:23:32 2015-01-10 23:23:33              38  ITUMJCKWEYNDD   \n146766 2015-01-10 23:23:27 2015-01-10 23:23:28              38  ITUMJCKWEYNDD   \n\n       source browser sex  age    ip_address  class country  device_id_seen  \n83        Ads  Safari   M   43  3.874758e+09      1    n.a.              20  \n3165      Ads  Safari   M   43  3.874758e+09      0    n.a.              20  \n5505      Ads  Safari   M   43  3.874758e+09      1    n.a.              20  \n29782     Ads  Safari   M   43  3.874758e+09      1    n.a.              20  \n34981     Ads  Safari   M   43  3.874758e+09      1    n.a.              20  \n35526     Ads  Safari   M   43  3.874758e+09      1    n.a.              20  \n35570     Ads  Safari   M   43  3.874758e+09      1    n.a.              20  \n72653     Ads  Safari   M   43  3.874758e+09      1    n.a.              20  \n73883     Ads  Safari   M   43  3.874758e+09      1    n.a.              20  \n74920     Ads  Safari   M   43  3.874758e+09      1    n.a.              20  \n79355     Ads  Safari   M   43  3.874758e+09      1    n.a.              20  \n83951     Ads  Safari   M   43  3.874758e+09      1    n.a.              20  \n88423     Ads  Safari   M   43  3.874758e+09      1    n.a.              20  \n93827     Ads  Safari   M   43  3.874758e+09      1    n.a.              20  \n109599    Ads  Safari   M   43  3.874758e+09      1    n.a.              20  \n120368    Ads  Safari   M   43  3.874758e+09      1    n.a.              20  \n128815    Ads  Safari   M   43  3.874758e+09      1    n.a.              20  \n135881    Ads  Safari   M   43  3.874758e+09      1    n.a.              20  \n139774    Ads  Safari   M   43  3.874758e+09      1    n.a.              20  \n146766    Ads  Safari   M   43  3.874758e+09      1    n.a.              20  ",
      "text/html": "<div>\n<style scoped>\n    .dataframe tbody tr th:only-of-type {\n        vertical-align: middle;\n    }\n\n    .dataframe tbody tr th {\n        vertical-align: top;\n    }\n\n    .dataframe thead th {\n        text-align: right;\n    }\n</style>\n<table border=\"1\" class=\"dataframe\">\n  <thead>\n    <tr style=\"text-align: right;\">\n      <th></th>\n      <th>signup_time</th>\n      <th>purchase_time</th>\n      <th>purchase_value</th>\n      <th>device_id</th>\n      <th>source</th>\n      <th>browser</th>\n      <th>sex</th>\n      <th>age</th>\n      <th>ip_address</th>\n      <th>class</th>\n      <th>country</th>\n      <th>device_id_seen</th>\n    </tr>\n  </thead>\n  <tbody>\n    <tr>\n      <th>83</th>\n      <td>2015-01-10 23:23:25</td>\n      <td>2015-01-10 23:23:26</td>\n      <td>38</td>\n      <td>ITUMJCKWEYNDD</td>\n      <td>Ads</td>\n      <td>Safari</td>\n      <td>M</td>\n      <td>43</td>\n      <td>3.874758e+09</td>\n      <td>1</td>\n      <td>n.a.</td>\n      <td>20</td>\n    </tr>\n    <tr>\n      <th>3165</th>\n      <td>2015-01-10 23:23:20</td>\n      <td>2015-04-28 00:12:59</td>\n      <td>38</td>\n      <td>ITUMJCKWEYNDD</td>\n      <td>Ads</td>\n      <td>Safari</td>\n      <td>M</td>\n      <td>43</td>\n      <td>3.874758e+09</td>\n      <td>0</td>\n      <td>n.a.</td>\n      <td>20</td>\n    </tr>\n    <tr>\n      <th>5505</th>\n      <td>2015-01-10 23:23:37</td>\n      <td>2015-01-10 23:23:38</td>\n      <td>38</td>\n      <td>ITUMJCKWEYNDD</td>\n      <td>Ads</td>\n      <td>Safari</td>\n      <td>M</td>\n      <td>43</td>\n      <td>3.874758e+09</td>\n      <td>1</td>\n      <td>n.a.</td>\n      <td>20</td>\n    </tr>\n    <tr>\n      <th>29782</th>\n      <td>2015-01-10 23:23:29</td>\n      <td>2015-01-10 23:23:30</td>\n      <td>38</td>\n      <td>ITUMJCKWEYNDD</td>\n      <td>Ads</td>\n      <td>Safari</td>\n      <td>M</td>\n      <td>43</td>\n      <td>3.874758e+09</td>\n      <td>1</td>\n      <td>n.a.</td>\n      <td>20</td>\n    </tr>\n    <tr>\n      <th>34981</th>\n      <td>2015-01-10 23:23:22</td>\n      <td>2015-01-10 23:23:23</td>\n      <td>38</td>\n      <td>ITUMJCKWEYNDD</td>\n      <td>Ads</td>\n      <td>Safari</td>\n      <td>M</td>\n      <td>43</td>\n      <td>3.874758e+09</td>\n      <td>1</td>\n      <td>n.a.</td>\n      <td>20</td>\n    </tr>\n    <tr>\n      <th>35526</th>\n      <td>2015-01-10 23:23:21</td>\n      <td>2015-01-10 23:23:22</td>\n      <td>38</td>\n      <td>ITUMJCKWEYNDD</td>\n      <td>Ads</td>\n      <td>Safari</td>\n      <td>M</td>\n      <td>43</td>\n      <td>3.874758e+09</td>\n      <td>1</td>\n      <td>n.a.</td>\n      <td>20</td>\n    </tr>\n    <tr>\n      <th>35570</th>\n      <td>2015-01-10 23:23:31</td>\n      <td>2015-01-10 23:23:32</td>\n      <td>38</td>\n      <td>ITUMJCKWEYNDD</td>\n      <td>Ads</td>\n      <td>Safari</td>\n      <td>M</td>\n      <td>43</td>\n      <td>3.874758e+09</td>\n      <td>1</td>\n      <td>n.a.</td>\n      <td>20</td>\n    </tr>\n    <tr>\n      <th>72653</th>\n      <td>2015-01-10 23:23:35</td>\n      <td>2015-01-10 23:23:36</td>\n      <td>38</td>\n      <td>ITUMJCKWEYNDD</td>\n      <td>Ads</td>\n      <td>Safari</td>\n      <td>M</td>\n      <td>43</td>\n      <td>3.874758e+09</td>\n      <td>1</td>\n      <td>n.a.</td>\n      <td>20</td>\n    </tr>\n    <tr>\n      <th>73883</th>\n      <td>2015-01-10 23:23:28</td>\n      <td>2015-01-10 23:23:29</td>\n      <td>38</td>\n      <td>ITUMJCKWEYNDD</td>\n      <td>Ads</td>\n      <td>Safari</td>\n      <td>M</td>\n      <td>43</td>\n      <td>3.874758e+09</td>\n      <td>1</td>\n      <td>n.a.</td>\n      <td>20</td>\n    </tr>\n    <tr>\n      <th>74920</th>\n      <td>2015-01-10 23:23:36</td>\n      <td>2015-01-10 23:23:37</td>\n      <td>38</td>\n      <td>ITUMJCKWEYNDD</td>\n      <td>Ads</td>\n      <td>Safari</td>\n      <td>M</td>\n      <td>43</td>\n      <td>3.874758e+09</td>\n      <td>1</td>\n      <td>n.a.</td>\n      <td>20</td>\n    </tr>\n    <tr>\n      <th>79355</th>\n      <td>2015-01-10 23:23:39</td>\n      <td>2015-01-10 23:23:40</td>\n      <td>38</td>\n      <td>ITUMJCKWEYNDD</td>\n      <td>Ads</td>\n      <td>Safari</td>\n      <td>M</td>\n      <td>43</td>\n      <td>3.874758e+09</td>\n      <td>1</td>\n      <td>n.a.</td>\n      <td>20</td>\n    </tr>\n    <tr>\n      <th>83951</th>\n      <td>2015-01-10 23:23:23</td>\n      <td>2015-01-10 23:23:24</td>\n      <td>38</td>\n      <td>ITUMJCKWEYNDD</td>\n      <td>Ads</td>\n      <td>Safari</td>\n      <td>M</td>\n      <td>43</td>\n      <td>3.874758e+09</td>\n      <td>1</td>\n      <td>n.a.</td>\n      <td>20</td>\n    </tr>\n    <tr>\n      <th>88423</th>\n      <td>2015-01-10 23:23:24</td>\n      <td>2015-01-10 23:23:25</td>\n      <td>38</td>\n      <td>ITUMJCKWEYNDD</td>\n      <td>Ads</td>\n      <td>Safari</td>\n      <td>M</td>\n      <td>43</td>\n      <td>3.874758e+09</td>\n      <td>1</td>\n      <td>n.a.</td>\n      <td>20</td>\n    </tr>\n    <tr>\n      <th>93827</th>\n      <td>2015-01-10 23:23:33</td>\n      <td>2015-01-10 23:23:34</td>\n      <td>38</td>\n      <td>ITUMJCKWEYNDD</td>\n      <td>Ads</td>\n      <td>Safari</td>\n      <td>M</td>\n      <td>43</td>\n      <td>3.874758e+09</td>\n      <td>1</td>\n      <td>n.a.</td>\n      <td>20</td>\n    </tr>\n    <tr>\n      <th>109599</th>\n      <td>2015-01-10 23:23:30</td>\n      <td>2015-01-10 23:23:31</td>\n      <td>38</td>\n      <td>ITUMJCKWEYNDD</td>\n      <td>Ads</td>\n      <td>Safari</td>\n      <td>M</td>\n      <td>43</td>\n      <td>3.874758e+09</td>\n      <td>1</td>\n      <td>n.a.</td>\n      <td>20</td>\n    </tr>\n    <tr>\n      <th>120368</th>\n      <td>2015-01-10 23:23:34</td>\n      <td>2015-01-10 23:23:35</td>\n      <td>38</td>\n      <td>ITUMJCKWEYNDD</td>\n      <td>Ads</td>\n      <td>Safari</td>\n      <td>M</td>\n      <td>43</td>\n      <td>3.874758e+09</td>\n      <td>1</td>\n      <td>n.a.</td>\n      <td>20</td>\n    </tr>\n    <tr>\n      <th>128815</th>\n      <td>2015-01-10 23:23:38</td>\n      <td>2015-01-10 23:23:39</td>\n      <td>38</td>\n      <td>ITUMJCKWEYNDD</td>\n      <td>Ads</td>\n      <td>Safari</td>\n      <td>M</td>\n      <td>43</td>\n      <td>3.874758e+09</td>\n      <td>1</td>\n      <td>n.a.</td>\n      <td>20</td>\n    </tr>\n    <tr>\n      <th>135881</th>\n      <td>2015-01-10 23:23:26</td>\n      <td>2015-01-10 23:23:27</td>\n      <td>38</td>\n      <td>ITUMJCKWEYNDD</td>\n      <td>Ads</td>\n      <td>Safari</td>\n      <td>M</td>\n      <td>43</td>\n      <td>3.874758e+09</td>\n      <td>1</td>\n      <td>n.a.</td>\n      <td>20</td>\n    </tr>\n    <tr>\n      <th>139774</th>\n      <td>2015-01-10 23:23:32</td>\n      <td>2015-01-10 23:23:33</td>\n      <td>38</td>\n      <td>ITUMJCKWEYNDD</td>\n      <td>Ads</td>\n      <td>Safari</td>\n      <td>M</td>\n      <td>43</td>\n      <td>3.874758e+09</td>\n      <td>1</td>\n      <td>n.a.</td>\n      <td>20</td>\n    </tr>\n    <tr>\n      <th>146766</th>\n      <td>2015-01-10 23:23:27</td>\n      <td>2015-01-10 23:23:28</td>\n      <td>38</td>\n      <td>ITUMJCKWEYNDD</td>\n      <td>Ads</td>\n      <td>Safari</td>\n      <td>M</td>\n      <td>43</td>\n      <td>3.874758e+09</td>\n      <td>1</td>\n      <td>n.a.</td>\n      <td>20</td>\n    </tr>\n  </tbody>\n</table>\n</div>"
     },
     "metadata": {},
     "execution_count": 162
    }
   ],
   "source": [
    "# ce sont peut etre (en partie) des achats utilisés pour des tests.\n",
    "fd[fd.device_id == 'ITUMJCKWEYNDD']"
   ]
  },
  {
   "cell_type": "markdown",
   "metadata": {},
   "source": [
    "### Feature : age\n",
    "\n",
    "- faire des classes d'age\n",
    "- voir les caractéristiques (moyennes ?) par classe d'age (purchase value et autres)\n",
    "- # age group, outlier purchase_value\n"
   ]
  },
  {
   "cell_type": "code",
   "execution_count": 163,
   "metadata": {},
   "outputs": [],
   "source": [
    "\n",
    "def age_classe(a, r=5, maxi=55):\n",
    "    if int(a) > maxi :\n",
    "        return str(maxi+1) + '+'\n",
    "    else:\n",
    "        return str(r * (a//r)) + '-' + str(min(r * (a//r) + r - 1, maxi))\n",
    "\n",
    "fd['age_group'] = fd.age.apply(lambda x : age_classe(x, maxi=54))"
   ]
  },
  {
   "cell_type": "code",
   "execution_count": 164,
   "metadata": {},
   "outputs": [],
   "source": [
    "#_ = sns.distplot(fd.age)"
   ]
  },
  {
   "cell_type": "code",
   "execution_count": 165,
   "metadata": {},
   "outputs": [],
   "source": [
    "#_ = sns.relplot(x='age', y='purchase_value', data=fd, hue='class')"
   ]
  },
  {
   "cell_type": "code",
   "execution_count": 166,
   "metadata": {},
   "outputs": [
    {
     "output_type": "execute_result",
     "data": {
      "text/plain": "age_group\n15-19    36.464361\n20-24    37.291862\n25-29    36.681963\n30-34    36.917630\n35-39    36.826871\n40-44    37.287728\n45-49    36.868234\n50-54    36.758604\n55+      37.537450\nName: purchase_value, dtype: float64"
     },
     "metadata": {},
     "execution_count": 166
    }
   ],
   "source": [
    "fd.groupby('age_group')['purchase_value'].mean()"
   ]
  },
  {
   "cell_type": "code",
   "execution_count": 167,
   "metadata": {},
   "outputs": [],
   "source": [
    "#_ = sns.barplot(x='age_group', y='purchase_value', data=fd.iloc[:100,:], hue='class')"
   ]
  },
  {
   "cell_type": "code",
   "execution_count": 168,
   "metadata": {},
   "outputs": [
    {
     "output_type": "execute_result",
     "data": {
      "text/plain": "          country age_group  purchase_value\n0     Afghanistan     20-24       18.000000\n1     Afghanistan     25-29       49.000000\n2     Afghanistan     30-34       40.500000\n3     Afghanistan     35-39       23.000000\n4         Albania     15-19       43.000000\n...           ...       ...             ...\n1128         n.a.     35-39       36.564672\n1129         n.a.     40-44       36.953160\n1130         n.a.     45-49       36.489276\n1131         n.a.     50-54       37.646179\n1132         n.a.       55+       36.702703\n\n[1133 rows x 3 columns]",
      "text/html": "<div>\n<style scoped>\n    .dataframe tbody tr th:only-of-type {\n        vertical-align: middle;\n    }\n\n    .dataframe tbody tr th {\n        vertical-align: top;\n    }\n\n    .dataframe thead th {\n        text-align: right;\n    }\n</style>\n<table border=\"1\" class=\"dataframe\">\n  <thead>\n    <tr style=\"text-align: right;\">\n      <th></th>\n      <th>country</th>\n      <th>age_group</th>\n      <th>purchase_value</th>\n    </tr>\n  </thead>\n  <tbody>\n    <tr>\n      <th>0</th>\n      <td>Afghanistan</td>\n      <td>20-24</td>\n      <td>18.000000</td>\n    </tr>\n    <tr>\n      <th>1</th>\n      <td>Afghanistan</td>\n      <td>25-29</td>\n      <td>49.000000</td>\n    </tr>\n    <tr>\n      <th>2</th>\n      <td>Afghanistan</td>\n      <td>30-34</td>\n      <td>40.500000</td>\n    </tr>\n    <tr>\n      <th>3</th>\n      <td>Afghanistan</td>\n      <td>35-39</td>\n      <td>23.000000</td>\n    </tr>\n    <tr>\n      <th>4</th>\n      <td>Albania</td>\n      <td>15-19</td>\n      <td>43.000000</td>\n    </tr>\n    <tr>\n      <th>...</th>\n      <td>...</td>\n      <td>...</td>\n      <td>...</td>\n    </tr>\n    <tr>\n      <th>1128</th>\n      <td>n.a.</td>\n      <td>35-39</td>\n      <td>36.564672</td>\n    </tr>\n    <tr>\n      <th>1129</th>\n      <td>n.a.</td>\n      <td>40-44</td>\n      <td>36.953160</td>\n    </tr>\n    <tr>\n      <th>1130</th>\n      <td>n.a.</td>\n      <td>45-49</td>\n      <td>36.489276</td>\n    </tr>\n    <tr>\n      <th>1131</th>\n      <td>n.a.</td>\n      <td>50-54</td>\n      <td>37.646179</td>\n    </tr>\n    <tr>\n      <th>1132</th>\n      <td>n.a.</td>\n      <td>55+</td>\n      <td>36.702703</td>\n    </tr>\n  </tbody>\n</table>\n<p>1133 rows × 3 columns</p>\n</div>"
     },
     "metadata": {},
     "execution_count": 168
    }
   ],
   "source": [
    "fd.groupby(['country', 'age_group'])['purchase_value'].mean().reset_index()\n"
   ]
  },
  {
   "cell_type": "code",
   "execution_count": 169,
   "metadata": {},
   "outputs": [
    {
     "output_type": "stream",
     "name": "stdout",
     "text": "<class 'pandas.core.frame.DataFrame'>\nRangeIndex: 151112 entries, 0 to 151111\nData columns (total 13 columns):\n #   Column          Non-Null Count   Dtype         \n---  ------          --------------   -----         \n 0   signup_time     151112 non-null  datetime64[ns]\n 1   purchase_time   151112 non-null  datetime64[ns]\n 2   purchase_value  151112 non-null  int64         \n 3   device_id       151112 non-null  object        \n 4   source          151112 non-null  object        \n 5   browser         151112 non-null  object        \n 6   sex             151112 non-null  object        \n 7   age             151112 non-null  int64         \n 8   ip_address      151112 non-null  float64       \n 9   class           151112 non-null  int64         \n 10  country         151112 non-null  object        \n 11  device_id_seen  151112 non-null  int64         \n 12  age_group       151112 non-null  object        \ndtypes: datetime64[ns](2), float64(1), int64(4), object(6)\nmemory usage: 15.0+ MB\n"
    }
   ],
   "source": [
    "fd.info()"
   ]
  },
  {
   "cell_type": "code",
   "execution_count": 171,
   "metadata": {},
   "outputs": [
    {
     "output_type": "execute_result",
     "data": {
      "text/plain": "            index\nip_address       \n2               1\n3               2\n4               4\n5              13\n6              30\n7              50\n8              71\n9              82\n10             89\n11            100\n12             91\n13             64\n14             59\n15             36\n16             36\n17             12\n18              9\n19              7\n20              4",
      "text/html": "<div>\n<style scoped>\n    .dataframe tbody tr th:only-of-type {\n        vertical-align: middle;\n    }\n\n    .dataframe tbody tr th {\n        vertical-align: top;\n    }\n\n    .dataframe thead th {\n        text-align: right;\n    }\n</style>\n<table border=\"1\" class=\"dataframe\">\n  <thead>\n    <tr style=\"text-align: right;\">\n      <th></th>\n      <th>index</th>\n    </tr>\n    <tr>\n      <th>ip_address</th>\n      <th></th>\n    </tr>\n  </thead>\n  <tbody>\n    <tr>\n      <th>2</th>\n      <td>1</td>\n    </tr>\n    <tr>\n      <th>3</th>\n      <td>2</td>\n    </tr>\n    <tr>\n      <th>4</th>\n      <td>4</td>\n    </tr>\n    <tr>\n      <th>5</th>\n      <td>13</td>\n    </tr>\n    <tr>\n      <th>6</th>\n      <td>30</td>\n    </tr>\n    <tr>\n      <th>7</th>\n      <td>50</td>\n    </tr>\n    <tr>\n      <th>8</th>\n      <td>71</td>\n    </tr>\n    <tr>\n      <th>9</th>\n      <td>82</td>\n    </tr>\n    <tr>\n      <th>10</th>\n      <td>89</td>\n    </tr>\n    <tr>\n      <th>11</th>\n      <td>100</td>\n    </tr>\n    <tr>\n      <th>12</th>\n      <td>91</td>\n    </tr>\n    <tr>\n      <th>13</th>\n      <td>64</td>\n    </tr>\n    <tr>\n      <th>14</th>\n      <td>59</td>\n    </tr>\n    <tr>\n      <th>15</th>\n      <td>36</td>\n    </tr>\n    <tr>\n      <th>16</th>\n      <td>36</td>\n    </tr>\n    <tr>\n      <th>17</th>\n      <td>12</td>\n    </tr>\n    <tr>\n      <th>18</th>\n      <td>9</td>\n    </tr>\n    <tr>\n      <th>19</th>\n      <td>7</td>\n    </tr>\n    <tr>\n      <th>20</th>\n      <td>4</td>\n    </tr>\n  </tbody>\n</table>\n</div>"
     },
     "metadata": {},
     "execution_count": 171
    }
   ],
   "source": [
    "# ip addr reuse\n",
    "ipid = fd['ip_address'].value_counts()\n",
    "ipid[ipid > 1].reset_index().groupby('ip_address').count()"
   ]
  },
  {
   "cell_type": "code",
   "execution_count": null,
   "metadata": {},
   "outputs": [],
   "source": []
  },
  {
   "cell_type": "markdown",
   "metadata": {},
   "source": [
    "### frequence des achats (ou delta avec le dernier achat)"
   ]
  },
  {
   "cell_type": "code",
   "execution_count": 44,
   "metadata": {},
   "outputs": [],
   "source": [
    "# delta time register to purchase\n",
    "\n",
    "# hour of purchase (detect off business hour or night purchases, depends on tz)\n",
    "\n",
    "# day of purchase ?\n",
    "\n",
    "import datetime\n",
    "#datetime(fd.signup_time[0])\n",
    "\n",
    "pass"
   ]
  },
  {
   "cell_type": "code",
   "execution_count": 66,
   "metadata": {},
   "outputs": [],
   "source": []
  },
  {
   "cell_type": "code",
   "execution_count": null,
   "metadata": {},
   "outputs": [],
   "source": []
  },
  {
   "cell_type": "code",
   "execution_count": null,
   "metadata": {},
   "outputs": [],
   "source": []
  },
  {
   "cell_type": "code",
   "execution_count": null,
   "metadata": {},
   "outputs": [],
   "source": []
  }
 ],
 "metadata": {
  "language_info": {
   "codemirror_mode": {
    "name": "ipython",
    "version": 3
   },
   "file_extension": ".py",
   "mimetype": "text/x-python",
   "name": "python",
   "nbconvert_exporter": "python",
   "pygments_lexer": "ipython3",
   "version": "3.7.3-final"
  },
  "orig_nbformat": 2,
  "kernelspec": {
   "name": "python3",
   "display_name": "Python 3"
  }
 },
 "nbformat": 4,
 "nbformat_minor": 2
}